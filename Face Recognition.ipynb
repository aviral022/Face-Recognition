{
 "cells": [
  {
   "cell_type": "code",
   "execution_count": 3,
   "id": "456895cd-9c7c-44bb-acc6-1c69d592e037",
   "metadata": {},
   "outputs": [],
   "source": [
    "# importing the cv2 library\n",
    "import cv2\n",
    "\n",
    "# loading the haar case algorithm file into alg variable\n",
    "alg = \"haarcascade_frontalface_default.xml\"\n",
    "# passing the algorithm to OpenCV\n",
    "haar_cascade = cv2.CascadeClassifier(alg)\n",
    "# loading the image path into file_name variable - replace <INSERT YOUR IMAGE NAME HERE> with the path to your image\n",
    "file_name = r\"C:\\Users\\Aviral dwivedi\\Downloads\\8 x10 2.jpg\"\n",
    "# reading the image\n",
    "img = cv2.imread(file_name, 0)\n",
    "# creating a black and white version of the image\n",
    "gray_img = cv2.cvtColor(img, cv2.COLOR_RGB2BGR)\n",
    "# detecting the faces\n",
    "faces = haar_cascade.detectMultiScale(\n",
    "    gray_img, scaleFactor=1.05, minNeighbors=2, minSize=(100, 100)\n",
    ")\n",
    "\n",
    "i = 0\n",
    "# for each face detected\n",
    "for x, y, w, h in faces:\n",
    "    # crop the image to select only the face\n",
    "    cropped_image = img[y : y + h, x : x + w]\n",
    "    # loading the target image path into target_file_name variable  - replace <INSERT YOUR TARGET IMAGE NAME HERE> with the path to your target image\n",
    "    target_file_name = 'stored-faces/' + str(i) + '.jpg'\n",
    "    cv2.imwrite(\n",
    "        target_file_name,\n",
    "        cropped_image,\n",
    "    )\n",
    "    i = i + 1;"
   ]
  },
  {
   "cell_type": "code",
   "execution_count": 5,
   "id": "36f0e545-d96e-4587-a4cc-b1952363e96d",
   "metadata": {},
   "outputs": [
    {
     "name": "stdout",
     "output_type": "stream",
     "text": [
      "Error while connecting to PostgreSQL or inserting data: connection to server at \"localhost\" (::1), port 5432 failed: Connection refused (0x0000274D/10061)\n",
      "\tIs the server running on that host and accepting TCP/IP connections?\n",
      "connection to server at \"localhost\" (127.0.0.1), port 5432 failed: Connection refused (0x0000274D/10061)\n",
      "\tIs the server running on that host and accepting TCP/IP connections?\n",
      "\n"
     ]
    }
   ],
   "source": [
    "# importing the required libraries\n",
    "import numpy as np\n",
    "from imgbeddings import imgbeddings\n",
    "from PIL import Image\n",
    "import psycopg2\n",
    "import os\n",
    "\n",
    "# Replace '<SERVICE_URI>' with your actual PostgreSQL database connection parameters\n",
    "SERVICE_URI = \"dbname=mydatabase user=myuser password=mypassword host=localhost port=5432\"\n",
    "\n",
    "try:\n",
    "    # connecting to the database\n",
    "    conn = psycopg2.connect(SERVICE_URI)\n",
    "\n",
    "    # Loop through each file in the \"stored-faces\" directory\n",
    "    for filename in os.listdir(\"stored-faces\"):\n",
    "        # Opening the image\n",
    "        img_path = os.path.join(\"stored-faces\", filename)\n",
    "        img = Image.open(img_path)\n",
    "\n",
    "        # Loading the imgbeddings module and calculating the embeddings\n",
    "        ibed = imgbeddings()\n",
    "        embedding = ibed.to_embeddings(img)\n",
    "\n",
    "        # Inserting the filename and embedding into the database\n",
    "        cur = conn.cursor()\n",
    "        cur.execute(\"INSERT INTO pictures (filename, embedding) VALUES (%s, %s)\", (filename, embedding[0].tolist()))\n",
    "        print(f\"Inserted {filename} into the database\")\n",
    "        \n",
    "        # Commit the transaction\n",
    "        conn.commit()\n",
    "\n",
    "    # Close cursor and connection\n",
    "    cur.close()\n",
    "    conn.close()\n",
    "\n",
    "except (Exception, psycopg2.Error) as error:\n",
    "    print(\"Error while connecting to PostgreSQL or inserting data:\", error)\n"
   ]
  },
  {
   "cell_type": "code",
   "execution_count": null,
   "id": "5c34a509-e96d-411c-9655-7fb0298ffa91",
   "metadata": {},
   "outputs": [],
   "source": []
  }
 ],
 "metadata": {
  "kernelspec": {
   "display_name": "Python 3 (ipykernel)",
   "language": "python",
   "name": "python3"
  },
  "language_info": {
   "codemirror_mode": {
    "name": "ipython",
    "version": 3
   },
   "file_extension": ".py",
   "mimetype": "text/x-python",
   "name": "python",
   "nbconvert_exporter": "python",
   "pygments_lexer": "ipython3",
   "version": "3.10.0"
  }
 },
 "nbformat": 4,
 "nbformat_minor": 5
}
